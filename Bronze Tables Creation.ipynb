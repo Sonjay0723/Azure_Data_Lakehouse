{
 "cells": [
  {
   "cell_type": "code",
   "execution_count": 0,
   "metadata": {
    "application/vnd.databricks.v1+cell": {
     "cellMetadata": {
      "byteLimit": 2048000,
      "rowLimit": 10000
     },
     "inputWidgets": {},
     "nuid": "6b17097c-5781-4ab6-b0bd-67e55d4b642b",
     "showTitle": true,
     "title": "Create dataframes from csv files"
    }
   },
   "outputs": [],
   "source": [
    "dfTrips = spark.read.format(\"csv\") \\\n",
    "            .option(\"inferSchema\", \"true\") \\\n",
    "            .option(\"header\", \"false\") \\\n",
    "            .option(\"sep\", \",\") \\\n",
    "            .load(\"/FileStore/csv_data/trips.csv\") \\\n",
    "            .withColumnRenamed(\"_c0\", \"trip_id\") \\\n",
    "            .withColumnRenamed(\"_c1\", \"rideable_type\") \\\n",
    "            .withColumnRenamed(\"_c2\", \"started_at\") \\\n",
    "            .withColumnRenamed(\"_c3\", \"ended_at\") \\\n",
    "            .withColumnRenamed(\"_c4\", \"start_station_id\") \\\n",
    "            .withColumnRenamed(\"_c5\", \"end_station_id\") \\\n",
    "            .withColumnRenamed(\"_c6\", \"rider_id\")\n",
    "\n",
    "dfPayments = spark.read.format(\"csv\") \\\n",
    "            .option(\"inferSchema\", \"true\") \\\n",
    "            .option(\"header\", \"false\") \\\n",
    "            .option(\"sep\", \",\") \\\n",
    "            .load(\"/FileStore/csv_data/payments.csv\") \\\n",
    "            .withColumnRenamed(\"_c0\", \"payment_id\") \\\n",
    "            .withColumnRenamed(\"_c1\", \"date\") \\\n",
    "            .withColumnRenamed(\"_c2\", \"amount\") \\\n",
    "            .withColumnRenamed(\"_c3\", \"rider_id\")\n",
    "\n",
    "dfRiders = spark.read.format(\"csv\") \\\n",
    "            .option(\"inferSchema\", \"true\") \\\n",
    "            .option(\"header\", \"false\") \\\n",
    "            .option(\"sep\", \",\") \\\n",
    "            .load(\"/FileStore/csv_data/riders.csv\") \\\n",
    "            .withColumnRenamed(\"_c0\", \"rider_id\") \\\n",
    "            .withColumnRenamed(\"_c1\", \"first_name\") \\\n",
    "            .withColumnRenamed(\"_c2\", \"last_name\") \\\n",
    "            .withColumnRenamed(\"_c3\", \"address\") \\\n",
    "            .withColumnRenamed(\"_c4\", \"birthday\") \\\n",
    "            .withColumnRenamed(\"_c5\", \"account_start_date\") \\\n",
    "            .withColumnRenamed(\"_c6\", \"account_end_date\") \\\n",
    "            .withColumnRenamed(\"_c7\", \"is_member\")\n",
    "\n",
    "dfStations = spark.read.format(\"csv\") \\\n",
    "            .option(\"inferSchema\", \"true\") \\\n",
    "            .option(\"header\", \"false\") \\\n",
    "            .option(\"sep\", \",\") \\\n",
    "            .load(\"/FileStore/csv_data/stations.csv\") \\\n",
    "            .withColumnRenamed(\"_c0\", \"station_id\") \\\n",
    "            .withColumnRenamed(\"_c1\", \"name\") \\\n",
    "            .withColumnRenamed(\"_c2\", \"latitude\") \\\n",
    "            .withColumnRenamed(\"_c3\", \"longitude\")"
   ]
  },
  {
   "cell_type": "code",
   "execution_count": 0,
   "metadata": {
    "application/vnd.databricks.v1+cell": {
     "cellMetadata": {
      "byteLimit": 2048000,
      "rowLimit": 10000
     },
     "inputWidgets": {},
     "nuid": "de1a819c-371d-4ef2-a6a2-993f6958ee11",
     "showTitle": true,
     "title": "Save dataframes as delta bronze tables"
    }
   },
   "outputs": [],
   "source": [
    "dfTrips.write.format(\"delta\").save(\"/delta/bronze_trips\")\n",
    "\n",
    "dfPayments.write.format(\"delta\").save(\"/delta/bronze_payments\")\n",
    "\n",
    "dfRiders.write.format(\"delta\").save(\"/delta/bronze_riders\")\n",
    "\n",
    "dfStations.write.format(\"delta\").save(\"/delta/bronze_stations\")"
   ]
  }
 ],
 "metadata": {
  "application/vnd.databricks.v1+notebook": {
   "dashboards": [],
   "environmentMetadata": null,
   "language": "python",
   "notebookMetadata": {
    "pythonIndentUnit": 4
   },
   "notebookName": "Bronze Tables Creation",
   "widgets": {}
  }
 },
 "nbformat": 4,
 "nbformat_minor": 0
}
