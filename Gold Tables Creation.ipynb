{
 "cells": [
  {
   "cell_type": "code",
   "execution_count": 0,
   "metadata": {
    "application/vnd.databricks.v1+cell": {
     "cellMetadata": {
      "byteLimit": 2048000,
      "rowLimit": 10000
     },
     "inputWidgets": {},
     "nuid": "88c1e054-b7d4-4211-90e0-0ee43b9192c2",
     "showTitle": true,
     "title": "Load dataframes from star ste"
    }
   },
   "outputs": [],
   "source": [
    "dfFactTrips = spark.read.format(\"delta\").load(\"/delta/star_fact_trips\")\n",
    "dfFactPayments = spark.read.format(\"delta\").load(\"/delta/star_fact_payments\")\n",
    "dfDimDates = spark.read.format(\"delta\").load(\"/delta/star_dim_dates\")\n",
    "dfDimStations = spark.read.format(\"delta\").load(\"/delta/star_dim_stations\")\n",
    "dfDimRiders = spark.read.format(\"delta\").load(\"/delta/star_dim_riders\")\n",
    "\n",
    "from pyspark.sql import functions as F"
   ]
  },
  {
   "cell_type": "code",
   "execution_count": 0,
   "metadata": {
    "application/vnd.databricks.v1+cell": {
     "cellMetadata": {
      "byteLimit": 2048000,
      "rowLimit": 10000
     },
     "inputWidgets": {},
     "nuid": "aba04c1d-0b3d-4502-b450-c6ee9bec4368",
     "showTitle": true,
     "title": "Time spent per ride: day of week and time of day"
    }
   },
   "outputs": [
    {
     "output_type": "stream",
     "name": "stdout",
     "output_type": "stream",
     "text": [
      "+----+-----------+---------------------+\n|hour|day_of_week|average_trip_duration|\n+----+-----------+---------------------+\n|   4|  Wednesday|   1357.9923017705928|\n|   8|   Thursday|   1163.6825682568258|\n|   9|   Saturday|   1313.0925583850112|\n|   7|   Thursday|    1246.145605805175|\n|   3|     Monday|    1488.135593220339|\n|   0|     Friday|   1200.3520650813516|\n|  23|     Sunday|    1567.898226985876|\n|   7|  Wednesday|   1253.6560360661213|\n|  12|  Wednesday|    1219.011237991662|\n|   3|     Sunday|   1399.0172692059393|\n|   0|  Wednesday|    1185.115367180417|\n|   9|  Wednesday|   1252.0780303736142|\n|  15|  Wednesday|   1223.2479202348911|\n|  11|     Sunday|   1312.7756962827214|\n|   7|     Monday|   1235.2872087298983|\n|  12|    Tuesday|    1357.705638564729|\n|   5|    Tuesday|   1182.7008022652194|\n|   6|    Tuesday|   1290.0255538623842|\n|  21|   Saturday|   1336.5142405658603|\n|  17|   Saturday|   1361.2338646772935|\n+----+-----------+---------------------+\nonly showing top 20 rows\n\n"
     ]
    }
   ],
   "source": [
    "goldDOWAndHourAverageTripDuration = dfFactTrips \\\n",
    "    .join(dfDimDates, dfDimDates[\"date_id\"] == dfFactTrips[\"start_date_id\"], \"inner\") \\\n",
    "    .withColumn(\"day_of_week\", F.date_format(F.to_date(F.concat(F.col(\"year\"), F.lit(\"-\"), F.col(\"month\"), F.lit(\"-\"), F.col(\"day\"))), \"EEEE\")) \\\n",
    "    .groupBy(\"hour\", \"day_of_week\") \\\n",
    "    .agg(F.avg(\"trip_duration\").alias(\"average_trip_duration\"))\n",
    "\n",
    "goldDOWAndHourAverageTripDuration.show()"
   ]
  },
  {
   "cell_type": "code",
   "execution_count": 0,
   "metadata": {
    "application/vnd.databricks.v1+cell": {
     "cellMetadata": {
      "byteLimit": 2048000,
      "rowLimit": 10000
     },
     "inputWidgets": {},
     "nuid": "018a30ab-fbf3-4b2c-8aa9-bb87f51c23a8",
     "showTitle": true,
     "title": "Time spent per ride: start and end station"
    }
   },
   "outputs": [
    {
     "output_type": "stream",
     "name": "stdout",
     "output_type": "stream",
     "text": [
      "+----------------+--------------+--------------------+--------------------+---------------------+\n|start_station_id|end_station_id|  start_station_name|    end_station_name|average_trip_duration|\n+----------------+--------------+--------------------+--------------------+---------------------+\n|           15529|  TA1309000023|Mies van der Rohe...|Sheffield Ave & W...|   1425.9285714285713|\n|    TA1308000029|        LF-005|Stetson Ave & Sou...|Lake Shore Dr & N...|   1978.8067226890757|\n|           13061|         18062|Ashland Ave & Div...|Aberdeen St & Ran...|          1009.890625|\n|           13042|         13022|Michigan Ave & Oa...|Streeter Dr & Gra...|   1848.7259635747564|\n|    KA1504000133|  TA1308000031|  Rush St & Cedar St|Logan Blvd & Elst...|               1634.0|\n|    TA1305000003|        LF-005|Fairbanks Ct & Gr...|Lake Shore Dr & N...|   1529.2197183098592|\n|             643|         13045|          Smith Park|Dearborn St & Eri...|   1834.3333333333333|\n|    TA1309000039|  TA1307000136|Lake Shore Dr & D...|Clark St & Wellin...|    956.2549019607843|\n|    TA1309000019|         13059|Lakeview Ave & Fu...|Bissell St & Armi...|    940.5894039735099|\n|           13277|  TA1305000010|Broadway & Belmon...|Michigan Ave & Id...|               3917.0|\n|           15535|  TA1309000058|Desplaines St & R...|Lincoln Ave & Ful...|   1289.4166666666667|\n|         20252.0|  TA1305000014|W Oakdale Ave & N...|Clark St & Wright...|                269.0|\n|           13137|         13179|Broadway & Barry Ave|Clark St & Lincol...|   1032.8858024691358|\n|           13266|         13084|Stave St & Armita...|California Ave & ...|    534.3366336633663|\n|           13029|         15541|        Field Museum| Buckingham Fountain|   1542.1954022988505|\n|           15534|         13300|Field Blvd & Sout...|Lake Shore Dr & M...|    2189.724696356275|\n|    TA1306000029|        LF-005|Lake Shore Dr & O...|Lake Shore Dr & N...|    1129.753807106599|\n|    TA1306000029|  TA1308000009|Lake Shore Dr & O...|  Shore Dr & 55th St|   3802.3548387096776|\n|           13191|         13191|Sedgwick St & Web...|Sedgwick St & Web...|   1470.1426356589147|\n|    TA1309000010|  TA1306000010| Wabash Ave & 9th St|  Daley Center Plaza|    2705.935483870968|\n+----------------+--------------+--------------------+--------------------+---------------------+\nonly showing top 20 rows\n\n"
     ]
    }
   ],
   "source": [
    "goldStationsAverageTripDuration = dfFactTrips \\\n",
    "    .join(dfDimStations, dfDimStations[\"station_id\"] == dfFactTrips[\"start_station_id\"], \"inner\") \\\n",
    "    .withColumnRenamed(\"name\", \"start_station_name\") \\\n",
    "    .drop(\"station_id\", \"latitude\", \"longitude\") \\\n",
    "    .join(dfDimStations, dfDimStations[\"station_id\"] == dfFactTrips[\"end_station_id\"], \"inner\") \\\n",
    "    .withColumnRenamed(\"name\", \"end_station_name\") \\\n",
    "    .drop(\"station_id\", \"latitude\", \"longitude\") \\\n",
    "    .groupBy(\"start_station_id\", \"end_station_id\", \"start_station_name\", \"end_station_name\") \\\n",
    "    .agg(F.avg(\"trip_duration\").alias(\"average_trip_duration\"))\n",
    "\n",
    "goldStationsAverageTripDuration.show()"
   ]
  },
  {
   "cell_type": "code",
   "execution_count": 0,
   "metadata": {
    "application/vnd.databricks.v1+cell": {
     "cellMetadata": {
      "byteLimit": 2048000,
      "rowLimit": 10000
     },
     "inputWidgets": {},
     "nuid": "e75b4988-6930-4cce-a312-0afea01c902e",
     "showTitle": true,
     "title": "Time spent per ride: age and time of day"
    }
   },
   "outputs": [
    {
     "output_type": "stream",
     "name": "stdout",
     "output_type": "stream",
     "text": [
      "+----+---------+---------------------+\n|hour|rider_age|average_trip_duration|\n+----+---------+---------------------+\n|  15|       26|   1638.0659501200041|\n|   8|       52|    1094.186403508772|\n|   7|       55|   1238.9976878612717|\n|  22|       53|   2113.6076555023924|\n|   3|       22|     1179.11394891945|\n|   3|       57|   1170.5890410958905|\n|  18|       68|    2082.775956284153|\n|  17|       33|    1276.973795286669|\n|   5|       40|   1369.2135802469136|\n|  22|       33|   1221.2880844645551|\n|   3|       30|    1160.981718464351|\n|   3|       15|    1165.598253275109|\n|  20|       55|    1358.344465648855|\n|   5|       49|   1282.0392670157069|\n|  11|       23|   1368.6214245653393|\n|   7|       33|   1286.8220793140408|\n|  12|       37|   1394.5933077830189|\n|   0|       25|   1645.4283326368575|\n|   0|       57|   1160.5379746835442|\n|   6|       37|   1843.9640410958905|\n+----+---------+---------------------+\nonly showing top 20 rows\n\n"
     ]
    }
   ],
   "source": [
    "goldAgeAndHourAverageTripDuration = dfFactTrips \\\n",
    "    .join(dfDimDates, dfDimDates[\"date_id\"] == dfFactTrips[\"start_date_id\"], \"inner\") \\\n",
    "    .groupBy(\"hour\", \"rider_age\") \\\n",
    "    .agg(F.avg(\"trip_duration\").alias(\"average_trip_duration\"))\n",
    "\n",
    "goldAgeAndHourAverageTripDuration.show()"
   ]
  },
  {
   "cell_type": "code",
   "execution_count": 0,
   "metadata": {
    "application/vnd.databricks.v1+cell": {
     "cellMetadata": {
      "byteLimit": 2048000,
      "rowLimit": 10000
     },
     "inputWidgets": {},
     "nuid": "e08b2655-f7e0-41be-9ef0-751a8ef14641",
     "showTitle": true,
     "title": "Time spent per ride: is a member"
    }
   },
   "outputs": [
    {
     "output_type": "stream",
     "name": "stdout",
     "output_type": "stream",
     "text": [
      "+---------+---------------------+\n|is_member|average_trip_duration|\n+---------+---------------------+\n|     true|   1314.2656120356567|\n|    false|   1279.4272573384933|\n+---------+---------------------+\n\n"
     ]
    }
   ],
   "source": [
    "goldMemberAverageTripDuration = dfFactTrips \\\n",
    "    .join(dfDimRiders, dfDimRiders[\"rider_id\"] == dfFactTrips[\"rider_id\"], \"inner\") \\\n",
    "    .groupBy(\"is_member\") \\\n",
    "    .agg(F.avg(\"trip_duration\").alias(\"average_trip_duration\"))\n",
    "\n",
    "goldMemberAverageTripDuration.show()"
   ]
  },
  {
   "cell_type": "code",
   "execution_count": 0,
   "metadata": {
    "application/vnd.databricks.v1+cell": {
     "cellMetadata": {
      "byteLimit": 2048000,
      "rowLimit": 10000
     },
     "inputWidgets": {},
     "nuid": "22ccaed9-c17e-44ef-b82d-0e1d305aa727",
     "showTitle": true,
     "title": "Total amount spent per: year, quarter, and month"
    }
   },
   "outputs": [
    {
     "output_type": "stream",
     "name": "stdout",
     "output_type": "stream",
     "text": [
      "+-----+------------------+\n|month|      total_amount|\n+-----+------------------+\n|   12|1799778.4599999962|\n|    1| 1855786.829999997|\n|    6|1491227.5800000052|\n|    3|1348782.3900000006|\n|    5|1441279.1900000027|\n|    9| 1641916.400000001|\n|    4|1395762.7799999989|\n|    8|        1592322.58|\n|    7|1538960.8799999964|\n|   10|1696207.3200000033|\n|    2|1907807.2699999996|\n|   11|1747273.5699999903|\n+-----+------------------+\n\n"
     ]
    }
   ],
   "source": [
    "goldYearAmount = dfFactPayments \\\n",
    "                    .join(dfDimDates, dfDimDates[\"date_id\"] == dfFactPayments[\"date_id\"], \"inner\") \\\n",
    "                    .groupBy(\"year\") \\\n",
    "                    .agg(F.sum(\"amount\").alias(\"total_amount\"))\n",
    "\n",
    "goldQuarterAmount = dfFactPayments \\\n",
    "                    .join(dfDimDates, dfDimDates[\"date_id\"] == dfFactPayments[\"date_id\"], \"inner\") \\\n",
    "                    .groupBy(\"quarter\") \\\n",
    "                    .agg(F.sum(\"amount\").alias(\"total_amount\"))\n",
    "\n",
    "goldMonthAmount = dfFactPayments \\\n",
    "                    .join(dfDimDates, dfDimDates[\"date_id\"] == dfFactPayments[\"date_id\"], \"inner\") \\\n",
    "                    .groupBy(\"month\") \\\n",
    "                    .agg(F.sum(\"amount\").alias(\"total_amount\"))\n",
    "\n",
    "goldMonthAmount.show()"
   ]
  },
  {
   "cell_type": "code",
   "execution_count": 0,
   "metadata": {
    "application/vnd.databricks.v1+cell": {
     "cellMetadata": {
      "byteLimit": 2048000,
      "rowLimit": 10000
     },
     "inputWidgets": {},
     "nuid": "37d43f1b-a55e-41c6-8991-a79f88bdaeb4",
     "showTitle": true,
     "title": "Average amount spent per: membership and age"
    }
   },
   "outputs": [
    {
     "output_type": "display_data",
     "data": {
      "text/html": [
       "<style scoped>\n",
       "  .table-result-container {\n",
       "    max-height: 300px;\n",
       "    overflow: auto;\n",
       "  }\n",
       "  table, th, td {\n",
       "    border: 1px solid black;\n",
       "    border-collapse: collapse;\n",
       "  }\n",
       "  th, td {\n",
       "    padding: 5px;\n",
       "  }\n",
       "  th {\n",
       "    text-align: left;\n",
       "  }\n",
       "</style><div class='table-result-container'><table class='table-result'><thead style='background-color: white'><tr><th>rider_age</th><th>average_amount</th></tr></thead><tbody><tr><td>31</td><td>9.0</td></tr><tr><td>65</td><td>9.0</td></tr><tr><td>53</td><td>9.0</td></tr><tr><td>34</td><td>9.0</td></tr><tr><td>28</td><td>9.0</td></tr><tr><td>26</td><td>9.0</td></tr><tr><td>27</td><td>9.0</td></tr><tr><td>44</td><td>9.0</td></tr><tr><td>12</td><td>9.0</td></tr><tr><td>22</td><td>9.0</td></tr><tr><td>47</td><td>9.0</td></tr><tr><td>52</td><td>9.0</td></tr><tr><td>13</td><td>9.0</td></tr><tr><td>16</td><td>9.0</td></tr><tr><td>40</td><td>9.0</td></tr><tr><td>20</td><td>9.0</td></tr><tr><td>57</td><td>9.0</td></tr><tr><td>54</td><td>9.0</td></tr><tr><td>48</td><td>9.0</td></tr><tr><td>19</td><td>9.0</td></tr><tr><td>64</td><td>9.0</td></tr><tr><td>41</td><td>9.0</td></tr><tr><td>15</td><td>9.0</td></tr><tr><td>43</td><td>9.0</td></tr><tr><td>37</td><td>9.0</td></tr><tr><td>61</td><td>9.0</td></tr><tr><td>17</td><td>9.0</td></tr><tr><td>9</td><td>9.0</td></tr><tr><td>72</td><td>9.0</td></tr><tr><td>35</td><td>9.0</td></tr><tr><td>59</td><td>9.0</td></tr><tr><td>55</td><td>9.0</td></tr><tr><td>8</td><td>9.0</td></tr><tr><td>39</td><td>9.0</td></tr><tr><td>23</td><td>9.0</td></tr><tr><td>49</td><td>9.0</td></tr><tr><td>7</td><td>9.0</td></tr><tr><td>51</td><td>9.0</td></tr><tr><td>69</td><td>9.0</td></tr><tr><td>63</td><td>9.0</td></tr><tr><td>10</td><td>9.0</td></tr><tr><td>50</td><td>9.0</td></tr><tr><td>45</td><td>9.0</td></tr><tr><td>38</td><td>9.0</td></tr><tr><td>25</td><td>9.0</td></tr><tr><td>73</td><td>9.0</td></tr><tr><td>24</td><td>9.0</td></tr><tr><td>70</td><td>9.0</td></tr><tr><td>62</td><td>9.0</td></tr><tr><td>29</td><td>9.0</td></tr><tr><td>21</td><td>9.0</td></tr><tr><td>32</td><td>9.0</td></tr><tr><td>60</td><td>9.0</td></tr><tr><td>75</td><td>9.0</td></tr><tr><td>56</td><td>9.0</td></tr><tr><td>58</td><td>9.0</td></tr><tr><td>33</td><td>9.0</td></tr><tr><td>11</td><td>9.0</td></tr><tr><td>68</td><td>9.0</td></tr><tr><td>71</td><td>9.0</td></tr><tr><td>14</td><td>9.0</td></tr><tr><td>42</td><td>9.0</td></tr><tr><td>30</td><td>9.0</td></tr><tr><td>66</td><td>9.0</td></tr><tr><td>46</td><td>9.0</td></tr><tr><td>67</td><td>9.0</td></tr><tr><td>18</td><td>9.0</td></tr><tr><td>74</td><td>9.0</td></tr><tr><td>36</td><td>9.0</td></tr></tbody></table></div>"
      ]
     },
     "metadata": {
      "application/vnd.databricks.v1+output": {
       "addedWidgets": {},
       "aggData": [],
       "aggError": "",
       "aggOverflow": false,
       "aggSchema": [],
       "aggSeriesLimitReached": false,
       "aggType": "",
       "arguments": {},
       "columnCustomDisplayInfos": {},
       "data": [
        [
         31,
         9.0
        ],
        [
         65,
         9.0
        ],
        [
         53,
         9.0
        ],
        [
         34,
         9.0
        ],
        [
         28,
         9.0
        ],
        [
         26,
         9.0
        ],
        [
         27,
         9.0
        ],
        [
         44,
         9.0
        ],
        [
         12,
         9.0
        ],
        [
         22,
         9.0
        ],
        [
         47,
         9.0
        ],
        [
         52,
         9.0
        ],
        [
         13,
         9.0
        ],
        [
         16,
         9.0
        ],
        [
         40,
         9.0
        ],
        [
         20,
         9.0
        ],
        [
         57,
         9.0
        ],
        [
         54,
         9.0
        ],
        [
         48,
         9.0
        ],
        [
         19,
         9.0
        ],
        [
         64,
         9.0
        ],
        [
         41,
         9.0
        ],
        [
         15,
         9.0
        ],
        [
         43,
         9.0
        ],
        [
         37,
         9.0
        ],
        [
         61,
         9.0
        ],
        [
         17,
         9.0
        ],
        [
         9,
         9.0
        ],
        [
         72,
         9.0
        ],
        [
         35,
         9.0
        ],
        [
         59,
         9.0
        ],
        [
         55,
         9.0
        ],
        [
         8,
         9.0
        ],
        [
         39,
         9.0
        ],
        [
         23,
         9.0
        ],
        [
         49,
         9.0
        ],
        [
         7,
         9.0
        ],
        [
         51,
         9.0
        ],
        [
         69,
         9.0
        ],
        [
         63,
         9.0
        ],
        [
         10,
         9.0
        ],
        [
         50,
         9.0
        ],
        [
         45,
         9.0
        ],
        [
         38,
         9.0
        ],
        [
         25,
         9.0
        ],
        [
         73,
         9.0
        ],
        [
         24,
         9.0
        ],
        [
         70,
         9.0
        ],
        [
         62,
         9.0
        ],
        [
         29,
         9.0
        ],
        [
         21,
         9.0
        ],
        [
         32,
         9.0
        ],
        [
         60,
         9.0
        ],
        [
         75,
         9.0
        ],
        [
         56,
         9.0
        ],
        [
         58,
         9.0
        ],
        [
         33,
         9.0
        ],
        [
         11,
         9.0
        ],
        [
         68,
         9.0
        ],
        [
         71,
         9.0
        ],
        [
         14,
         9.0
        ],
        [
         42,
         9.0
        ],
        [
         30,
         9.0
        ],
        [
         66,
         9.0
        ],
        [
         46,
         9.0
        ],
        [
         67,
         9.0
        ],
        [
         18,
         9.0
        ],
        [
         74,
         9.0
        ],
        [
         36,
         9.0
        ]
       ],
       "datasetInfos": [],
       "dbfsResultPath": null,
       "isJsonSchema": true,
       "metadata": {},
       "overflow": false,
       "plotOptions": {
        "customPlotOptions": {},
        "displayType": "table",
        "pivotAggregation": null,
        "pivotColumns": null,
        "xColumns": null,
        "yColumns": null
       },
       "removedWidgets": [],
       "schema": [
        {
         "metadata": "{}",
         "name": "rider_age",
         "type": "\"integer\""
        },
        {
         "metadata": "{}",
         "name": "average_amount",
         "type": "\"double\""
        }
       ],
       "type": "table"
      }
     },
     "output_type": "display_data"
    }
   ],
   "source": [
    "from pyspark.sql.functions import col, datediff\n",
    "\n",
    "goldMemberAndAgeAmount = dfFactPayments \\\n",
    "    .join(dfDimRiders, dfDimRiders[\"rider_id\"] == dfFactPayments[\"rider_id\"], \"inner\") \\\n",
    "    .filter(col(\"is_member\") == True) \\\n",
    "    .withColumn(\"rider_age\", datediff(col(\"account_start_date\"), col(\"birthday\")) / 365) \\\n",
    "    .withColumn(\"rider_age\", col(\"rider_age\").cast(\"integer\")) \\\n",
    "    .groupBy(\"rider_age\") \\\n",
    "    .agg(F.avg(\"amount\").alias(\"average_amount\"))\n",
    "\n",
    "display(goldMemberAndAgeAmount)"
   ]
  },
  {
   "cell_type": "code",
   "execution_count": 0,
   "metadata": {
    "application/vnd.databricks.v1+cell": {
     "cellMetadata": {
      "byteLimit": 2048000,
      "rowLimit": 10000
     },
     "inputWidgets": {},
     "nuid": "8262da4c-c9a7-4616-8b39-bc73d173e762",
     "showTitle": true,
     "title": "Save gold tables"
    }
   },
   "outputs": [],
   "source": [
    "goldDOWAndHourAverageTripDuration.write.format(\"delta\").mode(\"overwrite\").saveAsTable(\"goldDOWAndHourAverageTripDuration\")\n",
    "\n",
    "goldStationsAverageTripDuration.write.format(\"delta\").mode(\"overwrite\").saveAsTable(\"goldStationsAverageTripDuration\")\n",
    "\n",
    "goldAgeAndHourAverageTripDuration.write.format(\"delta\").mode(\"overwrite\").saveAsTable(\"goldAgeAndHourAverageTripDuration\")\n",
    "\n",
    "goldMemberAverageTripDuration.write.format(\"delta\").mode(\"overwrite\").saveAsTable(\"goldMemberAverageTripDuration\")\n",
    "\n",
    "goldYearAmount.write.format(\"delta\").mode(\"overwrite\").saveAsTable(\"goldYearAmount\")\n",
    "\n",
    "goldMonthAmount.write.format(\"delta\").mode(\"overwrite\").saveAsTable(\"goldMonthAmount\")\n",
    "\n",
    "goldMemberAndAgeAmount.write.format(\"delta\").mode(\"overwrite\").saveAsTable(\"goldMemberAndAgeAmount\")"
   ]
  }
 ],
 "metadata": {
  "application/vnd.databricks.v1+notebook": {
   "dashboards": [],
   "environmentMetadata": null,
   "language": "python",
   "notebookMetadata": {
    "pythonIndentUnit": 4
   },
   "notebookName": "Gold Tables Creation",
   "widgets": {}
  }
 },
 "nbformat": 4,
 "nbformat_minor": 0
}
